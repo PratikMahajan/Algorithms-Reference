{
 "cells": [
  {
   "cell_type": "markdown",
   "metadata": {},
   "source": [
    "# Algorithms Reference "
   ]
  },
  {
   "cell_type": "markdown",
   "metadata": {},
   "source": [
    "# Table of Contents\n",
    "\n",
    "- [Class Definition](#Class-Definition)\n",
    "    - [Linked List Class](#Linkedlist-Class)\n",
    "    - [Binary Tree Class](#Binary-Tree-Class)\n",
    "- [Python Basics](#Python-Basics)\n",
    "    - [Dictionaries](#Dictionaries)\n",
    "        - [Sorting a Dictionary with key or value](#Sorting-a-Dictionary-with-Key-or-Value)\n",
    "        - [Ordered Dict](#Ordered-Dict)\n",
    "        - [Default Dict](#Default-Dict)\n",
    "        - [Dictionary Operations](#Dictionary-Operations)\n",
    "    - [Heaps](#Heaps)\n",
    "- [Sorting](#Sorting)\n",
    "    - [Merge Sort](#Merge-Sort)\n",
    "- [Arrays and Strings](#Arrays-and-Strings)\n",
    "    - [O(n) Sliding Window Algorithm (Single Pointer)](#O(n)-Sliding-Window-Algorithm-(Single-Pointer))\n",
    "    - [O(n) Sliding Window Algorithm (Consecutive Elements)](#O(n)-Sliding-Window-Algorithm-(Consecutive-Elements))\n",
    "- [Binary Search](#Binary-Search)   \n",
    "    - [Get a Separator in a rotated sorted Array](#Get-a-Separator-in-a-rotated-sorted-Array)\n",
    "- [Linkedlist](#Linkedlist)\n",
    "    - [LinkedList MergeSort](#LinkedList-MergeSort)\n",
    "- [Trees](#Trees)\n",
    "    - [DFS in Tree](#DFS-in-Tree)\n",
    "        - [Iterative Solution](#Iterative-Solution)\n",
    "        - [Recursive Solution](#Recursive-Solution)\n",
    "- [Graph](#Graph)\n",
    "    - [Types of Nodes](#Types-of-Nodes)\n",
    "    - [Types of Edges](#Types-of-Edges)\n",
    "    - [What is Discovery Time and Finish Time](#What-is-Discovery-Time-and-Finish-Time)\n",
    "    - [Topological sort with DFS Algorithm basics](#Topological-sort-with-DFS-Algorithm-basics)\n",
    "        - [Topological Sort Algo](#Topological-Sort-Algo)\n",
    "        - [Sample Topological Sort Code](#Sample-Topological-Sort-Code)\n",
    "    - [BellmanFord](#BellmanFord)\n",
    "    - [Dijkstras](#Dijkstras)"
   ]
  }
 ],
 "metadata": {
  "kernelspec": {
   "display_name": "Python 3",
   "language": "python",
   "name": "python3"
  },
  "language_info": {
   "codemirror_mode": {
    "name": "ipython",
    "version": 3
   },
   "file_extension": ".py",
   "mimetype": "text/x-python",
   "name": "python",
   "nbconvert_exporter": "python",
   "pygments_lexer": "ipython3",
   "version": "3.7.2"
  }
 },
 "nbformat": 4,
 "nbformat_minor": 2
}
