{
 "cells": [
  {
   "cell_type": "markdown",
   "metadata": {},
   "source": [
    "# Algorithms Reference "
   ]
  },
  {
   "cell_type": "markdown",
   "metadata": {},
   "source": [
    "# Table of Contents\n",
    "\n",
    "- [Class Definition](#Class-Definition)\n",
    "    - [Linked List Class](#Linkedlist-Class)\n",
    "    - [Binary Tree Class](#Binary-Tree-Class)\n",
    "- [Python Basics](#Python-Basics)\n",
    "    - [Dictionaries](#Dictionaries)\n",
    "        - [Sorting a Dictionary with key or value](#Sorting-a-Dictionary-with-Key-or-Value)\n",
    "        - [Ordered Dict](#Ordered-Dict)\n",
    "        - [Default Dict](#Default-Dict)\n",
    "        - [Dictionary Operations](#Dictionary-Operations)\n",
    "- [Sorting](#Sorting)\n",
    "    - [Merge Sort](#Merge-Sort)\n",
    "- [Arrays](#Arrays)\n",
    "    - [O(n) Sliding Window Algorithm](#O(n)-Sliding-Window-Algorithm)\n",
    "    - [Get a Separator in a rotated sorted Array](#Get-a-Separator-in-a-rotated-sorted-Array)\n",
    "- [Linkedlist](#Linkedlist)\n",
    "    - [LinkedList MergeSort](#LinkedList-MergeSort)\n",
    "- [Trees](#Trees)\n",
    "    - [DFS in Tree](#DFS-in-Tree)\n",
    "        - [Iterative Solution](#Iterative-Solution)\n",
    "        - [Recursive Solution](#Recursive-Solution)\n",
    "- [Graph](#Graph)\n",
    "    - [Types of Nodes](#Types-of-Nodes)\n",
    "    - [Types of Edges](#Types-of-Edges)\n",
    "    - [What is Discovery Time and Finish Time](#What-is-Discovery-Time-and-Finish-Time)\n",
    "    - [Topological sort with DFS Algorithm basics](#Topological-sort-with-DFS-Algorithm-basics)\n",
    "        - [Topological Sort Algo](#Topological-Sort-Algo)\n",
    "        - [Sample Topological Sort Code](#Sample-Topological-Sort-Code)\n",
    "    - [BellmanFord](#BellmanFord)\n",
    "    - [Dijkstras](#Dijkstras)"
   ]
  },
  {
   "cell_type": "markdown",
   "metadata": {},
   "source": [
    "# Class Definition"
   ]
  },
  {
   "cell_type": "code",
   "execution_count": 1,
   "metadata": {},
   "outputs": [],
   "source": [
    "import sys"
   ]
  },
  {
   "cell_type": "markdown",
   "metadata": {},
   "source": [
    "##### Linkedlist Class"
   ]
  },
  {
   "cell_type": "code",
   "execution_count": 2,
   "metadata": {},
   "outputs": [],
   "source": [
    "class ListNode(object):\n",
    "    def __init__(self, x=None):\n",
    "        self.val = x\n",
    "        self.next = None\n",
    "        \n",
    "def printLL(node):\n",
    "    while node:\n",
    "        print (node.val, end=\"->\")\n",
    "        node=node.next\n",
    "\n",
    "def populateLL(array):\n",
    "    node= ListNode(0)\n",
    "    backup=node\n",
    "    for element in array:\n",
    "        node.next=ListNode(element)\n",
    "        node=node.next\n",
    "    return backup.next"
   ]
  },
  {
   "cell_type": "markdown",
   "metadata": {},
   "source": [
    "##### Binary Tree Class"
   ]
  },
  {
   "cell_type": "code",
   "execution_count": 3,
   "metadata": {},
   "outputs": [],
   "source": [
    "class TreeNode(object):\n",
    "    def __init__(self, x):\n",
    "        self.val = x\n",
    "        self.left = None\n",
    "        self.right = None"
   ]
  },
  {
   "cell_type": "markdown",
   "metadata": {},
   "source": [
    " "
   ]
  },
  {
   "cell_type": "markdown",
   "metadata": {},
   "source": [
    "# Python Basics"
   ]
  },
  {
   "cell_type": "markdown",
   "metadata": {},
   "source": [
    "## Dictionaries"
   ]
  },
  {
   "cell_type": "markdown",
   "metadata": {},
   "source": [
    "### Sorting a Dictionary with Key or Value"
   ]
  },
  {
   "cell_type": "markdown",
   "metadata": {},
   "source": [
    "**Sort by Key**\n",
    "```python\n",
    "result = OrderedDict(sorted(unsorted.items(), key= lambda x:x[0]))\n",
    "```\n",
    "\n",
    "**Sort by Value**\n",
    "```python\n",
    "result = OrderedDict(sorted(unsorted.items(), key= lambda x:x[1]))\n",
    "```\n",
    "\n",
    "**Get items in Sorted Order**\n",
    "```python\n",
    "result = [unsorted[key] for key in sorted(unsorted.keys())]\n",
    "```"
   ]
  },
  {
   "cell_type": "markdown",
   "metadata": {},
   "source": [
    "### Ordered Dict"
   ]
  },
  {
   "cell_type": "markdown",
   "metadata": {},
   "source": [
    "```python\n",
    "import collections\n",
    "orderes_dict = collections.OrderedDict() \n",
    "```"
   ]
  },
  {
   "cell_type": "markdown",
   "metadata": {},
   "source": [
    "**Can also take existing dictionary (won't order the dictionary by itself)**"
   ]
  },
  {
   "cell_type": "markdown",
   "metadata": {},
   "source": [
    "### Default Dict"
   ]
  },
  {
   "cell_type": "markdown",
   "metadata": {},
   "source": [
    "```python \n",
    "import collections\n",
    "dictionary = collections.defaultdict(set) # Replace 'set' with any data structure of choice\n",
    "```"
   ]
  },
  {
   "cell_type": "markdown",
   "metadata": {},
   "source": [
    "Creates a dictionary with default value(data-type). eg. list, set, dict, etc <br/>\n",
    "It is accessed as a normal dictionary "
   ]
  },
  {
   "cell_type": "markdown",
   "metadata": {},
   "source": [
    "### Dictionary Operations "
   ]
  },
  {
   "cell_type": "markdown",
   "metadata": {},
   "source": [
    "**Delete a key in dictionary**\n",
    "\n",
    "```python\n",
    "del d[key]  # d is the name of dictionary\n",
    "```"
   ]
  },
  {
   "cell_type": "markdown",
   "metadata": {},
   "source": [
    " "
   ]
  },
  {
   "cell_type": "markdown",
   "metadata": {},
   "source": [
    "# Sorting"
   ]
  },
  {
   "cell_type": "markdown",
   "metadata": {},
   "source": [
    "## Merge Sort "
   ]
  },
  {
   "cell_type": "code",
   "execution_count": 4,
   "metadata": {},
   "outputs": [
    {
     "data": {
      "text/plain": [
       "[1, 1, 2, 2, 3, 3, 4, 5, 6, 7, 8, 9]"
      ]
     },
     "execution_count": 4,
     "metadata": {},
     "output_type": "execute_result"
    }
   ],
   "source": [
    "class MergeSort(object):\n",
    "    def merge(self, a1, a2):\n",
    "        i,j=0,0\n",
    "        res=[]\n",
    "        while i<len(a1) and j<len(a2):\n",
    "            if a1[i]>a2[j]:\n",
    "                res.append(a2[j])\n",
    "                j+=1\n",
    "            else:\n",
    "                res.append(a1[i])\n",
    "                i+=1\n",
    "        if i<len(a1):\n",
    "            res+=a1[i:]\n",
    "        if j<len(a2):\n",
    "            res+=a2[j:]\n",
    "        return res\n",
    "\n",
    "    def split(self, array):\n",
    "        if len(array)==1:\n",
    "            return [array[0]]\n",
    "        if len(array)==2:\n",
    "            return self.merge([array[0]],[array[1]])\n",
    "        else:\n",
    "            lo=0\n",
    "            hi=len(array)-1\n",
    "            mid=int((lo+hi)/2)\n",
    "            return self.merge(self.split(array[:mid]),self.split(array[mid:]))\n",
    "\n",
    "\n",
    "MergeSort().split([1,2,3,9,8,7,6,5,4,3,2,1])"
   ]
  },
  {
   "cell_type": "markdown",
   "metadata": {},
   "source": [
    " "
   ]
  },
  {
   "cell_type": "markdown",
   "metadata": {},
   "source": [
    "# Arrays"
   ]
  },
  {
   "cell_type": "markdown",
   "metadata": {},
   "source": [
    "## O(n) Sliding Window Algorithm\n",
    "**Pseudo algorithm for Ordered Dictionary**"
   ]
  },
  {
   "cell_type": "markdown",
   "metadata": {},
   "source": [
    "Can modify this algorithm to suit any type of problem which involves any kind of sliding window. "
   ]
  },
  {
   "cell_type": "code",
   "execution_count": 5,
   "metadata": {},
   "outputs": [
    {
     "name": "stdout",
     "output_type": "stream",
     "text": [
      "-inf->12->-inf->None\n",
      "-inf->12->13->14->15->-inf->None\n",
      "-inf->13->14->15->16->-inf->None\n",
      "-inf->13->15->16->-inf->None\n"
     ]
    }
   ],
   "source": [
    "class OrderedDict(object):\n",
    "    def __init__(self,capacity):\n",
    "        self.capacity=capacity\n",
    "        self.head=ListNode(\"-inf\")\n",
    "        self.tail=ListNode(\"-inf\")\n",
    "        self.head.next=self.tail\n",
    "        self.tail.prev=self.head\n",
    "        self.dict={}\n",
    "        \n",
    "    def addTail(self,key):\n",
    "        node= ListNode(key)\n",
    "        node.prev= self.tail.prev\n",
    "        node.next=self.tail\n",
    "        self.tail.prev.next=node\n",
    "        self.tail.prev=node\n",
    "        self.dict[key]=node\n",
    "        if len(self.dict)>self.capacity:\n",
    "            self.removeHead()\n",
    "        \n",
    "    def removeNode(self,key):\n",
    "        node= self.dict[key]\n",
    "        node.prev.next=node.next\n",
    "        node.next.prev=node.prev\n",
    "        del self.dict[key]\n",
    "        \n",
    "    def removeHead(self):\n",
    "        key= self.head.next.val\n",
    "        self.removeNode(key)\n",
    "        \n",
    "obj= OrderedDict(4)\n",
    "obj.addTail(12)\n",
    "print(printLL(obj.head))\n",
    "obj.addTail(13)\n",
    "obj.addTail(14)\n",
    "obj.addTail(15)\n",
    "print(printLL(obj.head))\n",
    "obj.addTail(16)\n",
    "print(printLL(obj.head))\n",
    "obj.removeNode(14)\n",
    "print(printLL(obj.head))"
   ]
  },
  {
   "cell_type": "code",
   "execution_count": 6,
   "metadata": {},
   "outputs": [
    {
     "data": {
      "text/plain": [
       "0"
      ]
     },
     "execution_count": 6,
     "metadata": {},
     "output_type": "execute_result"
    }
   ],
   "source": [
    "int((0+1)/2)"
   ]
  },
  {
   "cell_type": "markdown",
   "metadata": {},
   "source": [
    "## Get a Separator in a rotated sorted Array\n",
    "**Modification of Binary search**"
   ]
  },
  {
   "cell_type": "code",
   "execution_count": 7,
   "metadata": {},
   "outputs": [
    {
     "name": "stdout",
     "output_type": "stream",
     "text": [
      "8\n"
     ]
    }
   ],
   "source": [
    "class SortedSeparator(object):\n",
    "    def getSeparator(self,nums):\n",
    "        lo=0\n",
    "        hi=int(len(nums)-1)\n",
    "        while lo<hi:\n",
    "            mid=int((lo+hi)/2)\n",
    "            if nums[mid]>nums[hi]:\n",
    "                lo=mid+1\n",
    "            else:\n",
    "                hi=mid   \n",
    "        return lo\n",
    "print(SortedSeparator().getSeparator([7,8,9,10,12,23,45,67,1,3,4,5,6]))"
   ]
  },
  {
   "cell_type": "code",
   "execution_count": 8,
   "metadata": {
    "scrolled": true
   },
   "outputs": [
    {
     "name": "stdout",
     "output_type": "stream",
     "text": [
      "[7, 6, 5, 4, 3, 2, 1, 0]\n"
     ]
    }
   ],
   "source": [
    "arr=list(range(12))\n",
    "print (arr[8-1::-1])"
   ]
  },
  {
   "cell_type": "markdown",
   "metadata": {},
   "source": [
    " "
   ]
  },
  {
   "cell_type": "markdown",
   "metadata": {},
   "source": [
    "# Linkedlist"
   ]
  },
  {
   "cell_type": "markdown",
   "metadata": {},
   "source": [
    "## LinkedList MergeSort"
   ]
  },
  {
   "cell_type": "code",
   "execution_count": 9,
   "metadata": {},
   "outputs": [
    {
     "name": "stdout",
     "output_type": "stream",
     "text": [
      "1->2->3->4->5->6->7->8->9->10->53->None\n"
     ]
    }
   ],
   "source": [
    "class LLMergeSort(object):\n",
    "    def getMid(self, llist):\n",
    "        if llist.next==None:\n",
    "            return llist, None\n",
    "        slowp= llist\n",
    "        fastp= llist.next\n",
    "        while fastp:\n",
    "            if fastp.next:\n",
    "                fastp=fastp.next.next\n",
    "            else:\n",
    "                break\n",
    "            llist=llist.next\n",
    "        mid= llist.next\n",
    "        llist.next=None\n",
    "        return slowp, mid\n",
    "\n",
    "\n",
    "    def merge(self,list1,list2):\n",
    "        res= ListNode(0)\n",
    "        backup= res\n",
    "        while list1 and list2:\n",
    "            if list2.val<list1.val:\n",
    "                res.next=list2\n",
    "                res=res.next\n",
    "                list2=list2.next\n",
    "                res.next=None\n",
    "            else:\n",
    "                res.next=list1\n",
    "                res=res.next\n",
    "                list1=list1.next\n",
    "                res.next=None\n",
    "        res.next = list1 or list2\n",
    "        return backup.next\n",
    "\n",
    "\n",
    "    def split(self,llist):\n",
    "        start,mid=self.getMid(llist)\n",
    "        if mid== None:\n",
    "            return start\n",
    "        else:\n",
    "            return self.merge(self.split(start),self.split(mid))\n",
    "\n",
    "        \n",
    "def runLLMS():\n",
    "    LL= populateLL([10,9,8,4,7,6,5,3,2,53,1])\n",
    "    res= LLMergeSort().split(LL)\n",
    "    print(printLL(res))\n",
    "\n",
    "runLLMS()"
   ]
  },
  {
   "cell_type": "markdown",
   "metadata": {},
   "source": [
    " "
   ]
  },
  {
   "cell_type": "markdown",
   "metadata": {},
   "source": [
    "# Trees"
   ]
  },
  {
   "cell_type": "markdown",
   "metadata": {},
   "source": [
    "## DFS in Tree"
   ]
  },
  {
   "cell_type": "markdown",
   "metadata": {},
   "source": [
    "### Iterative Solution"
   ]
  },
  {
   "cell_type": "code",
   "execution_count": 10,
   "metadata": {},
   "outputs": [],
   "source": [
    "def dfs(self,root):\n",
    "    stack=[]\n",
    "\n",
    "    while root or stack:\n",
    "        while root:\n",
    "            stack.append(root)\n",
    "            root=root.left\n",
    "\n",
    "        node=stack.pop()\n",
    "        print (node.val)\n",
    "        root=node.right"
   ]
  },
  {
   "cell_type": "markdown",
   "metadata": {},
   "source": [
    "### Recursive Solution"
   ]
  },
  {
   "cell_type": "code",
   "execution_count": 11,
   "metadata": {},
   "outputs": [],
   "source": [
    "# Inorder\n",
    "def dfsInorder(self,node):\n",
    "    if not node:\n",
    "        return \n",
    "    \n",
    "    self.dfsInorder(node.left)\n",
    "    print (node.val)\n",
    "    self.dfsInorder(node.right)"
   ]
  },
  {
   "cell_type": "code",
   "execution_count": 12,
   "metadata": {},
   "outputs": [],
   "source": [
    "# Postorder\n",
    "def dfsPostorder(self,node):\n",
    "    if not node:\n",
    "        return \n",
    "    \n",
    "    self.dfsPostorder(node.left)\n",
    "    self.dfsPostorder(node.right)\n",
    "    print (node.val)"
   ]
  },
  {
   "cell_type": "code",
   "execution_count": 13,
   "metadata": {},
   "outputs": [],
   "source": [
    "# Preorder\n",
    "def dfsPreorder(self,node):\n",
    "    if not node:\n",
    "        return \n",
    "    \n",
    "    print (node.val)    \n",
    "    self.dfsPreorder(node.left)\n",
    "    self.dfsPreorder(node.right)"
   ]
  },
  {
   "cell_type": "markdown",
   "metadata": {},
   "source": [
    "## BFS in Tree"
   ]
  },
  {
   "cell_type": "code",
   "execution_count": 17,
   "metadata": {},
   "outputs": [],
   "source": [
    "def bfs(self,root):\n",
    "    q = [root]\n",
    "    q_u = []\n",
    "\n",
    "    result=[]\n",
    "\n",
    "    # Complexity remains same even if using two while loops. \n",
    "    # Using two while loops to print all elements at a particular depth \n",
    "    # Using one queue will attain the same result, just differentiating elements by depth will be difficult\n",
    "    while q:\n",
    "        while q:\n",
    "            node = q.pop()\n",
    "            if node:\n",
    "                q_u.append(node.left)\n",
    "                q_u.append(node.right)\n",
    "\n",
    "                result.append(node.val)\n",
    "        q=q_u[::-1]\n",
    "        q_u=[]\n",
    "        \n",
    "    return result "
   ]
  },
  {
   "cell_type": "markdown",
   "metadata": {},
   "source": [
    " "
   ]
  },
  {
   "cell_type": "markdown",
   "metadata": {},
   "source": [
    "# Graph"
   ]
  },
  {
   "cell_type": "markdown",
   "metadata": {},
   "source": [
    "## Types of Nodes\n",
    "1. Black: No outgoing or all outgoing nodes are visited\n",
    "2. Grey: Currently exploring the node, but not yet finished\n",
    "3. White: Currently unexplored node, i.e. not yet visited\n",
    "\n",
    "## Types of Edges\n",
    "1. Grey to White: Discovery Edge\n",
    "2. Grey to Grey: Back Edge\n",
    "3. Grey(first) to Black: Forward Edge\n",
    "4. Grey to Black(first): Cross Edge\n",
    "\n",
    "## What is Discovery Time and Finish Time\n",
    "Consider that you start at node A. The discovery time of this node will be 1 as it is the first node. As we go deep into the graph, keep incrementing this number. When we reach a node which has no outgoing edge, we consider that the discovery of this node is complete, thats when we mark it as finish time. As we come one level up after completed discovery, we still keep on incrementing this time untill the end of algorithm. This time can be imaginary and we dont have to keep track of it. Its just the order in which we discover and finish discovering a node. Thus the source will be the first one to be discovered and last one to be finished in its own tree. \n",
    "\n",
    "## Topological sort with DFS Algorithm basics\n",
    "* If next node is white, convert it from white to grey and keep going deep. \n",
    "* if there is no outgoing node from the current node, convert it to black and go one level up. \n",
    "* Once all the node is marked as black, insert it to the front of the LinkedList that keeps node in a topologically sorted order.\n",
    "* If all child nodes are black, convery the current node(grey) to black and go one level up. \n",
    "* If while exploring, we encounter a node which is grey, there is a cycle in graph. (Cycle should not be there in a DAG- Directed Acyclic Graph). Its better to check for this condition as it has various uses in Algorithms. In this case, add this node to a list of cycling nodes. One way to handle it can be convert it to black and go one level up. \n",
    "* If all nodes originating at one source are traversed, check if there is any independent tree in the graph. If yes, continue the same algorithm again. \n",
    "\n",
    "Here,\n",
    "* Visited :\n",
    "\t* Can be an array where \n",
    "\t\t* 0-> White\n",
    "\t\t* -1 -> Black\n",
    "\t\t* 1 -> Grey\n",
    "\t* if we consider it as a `set` , we will have to maintain 3 sets, one each for white, grey and black. \n",
    "* We will have to maintain a LinkedList to keep toplogically sorted nodes in order. Or we can also use an OrderedDict which is nothing but a datastructure made up of dictionary and linkedlist. \n",
    "\n",
    "### Topological Sort Algo\n",
    "*According to Algorithm Design-CLRS*<br/>\n",
    "TOPOLOGICAL-SORT(G)<br/>\n",
    "1. call DFS(G) to compute finishing times 􏰁v.f for each vertex 􏰁v<br/>\n",
    "2. as each vertex is finished, insert it onto the front of a linked list<br/>\n",
    "3. return the linked list of vertices<br/>\n"
   ]
  },
  {
   "cell_type": "markdown",
   "metadata": {},
   "source": [
    "### Sample Topological Sort Code"
   ]
  },
  {
   "cell_type": "code",
   "execution_count": 14,
   "metadata": {},
   "outputs": [],
   "source": [
    "# 207. Course Schedule on Leetcode\n",
    "\n",
    "from collections import defaultdict\n",
    "class Listnode(object):\n",
    "    def __init__(self,key):\n",
    "        self.key=key\n",
    "        # self.val=val\n",
    "        self.next=None\n",
    "\n",
    "\n",
    "class Solution(object):\n",
    "    def canFinish(self, n, pres):\n",
    "        \"\"\"\n",
    "        :type numCourses: int\n",
    "        :type prerequisites: List[List[int]]\n",
    "        :rtype: bool\n",
    "        \"\"\"\n",
    "        self.graph = defaultdict(set)\n",
    "        for req in pres:\n",
    "            prereq=req[1]\n",
    "            subj=req[0]\n",
    "            self.graph[prereq].add(subj)\n",
    "        self.ordered=Listnode(float(\"inf\"))\n",
    "        self.white= set([i for i in xrange(n)])\n",
    "        self.black=set()\n",
    "        self.cycles=set()\n",
    "        self.grey=set()\n",
    "        for i in xrange(n):\n",
    "            if i in self.white:\n",
    "                self.dfs(i)\n",
    "        # print self.white,self.grey,self.black,self.cycles\n",
    "        return len(self.cycles)==0\n",
    "        \n",
    "        \n",
    "    def dfs(self,node):\n",
    "        if node in self.black:\n",
    "            return 1\n",
    "        if node in self.grey:\n",
    "            self.cycles.add(node)\n",
    "            return 1\n",
    "        if node in self.white:\n",
    "            self.white.remove(node)\n",
    "            self.grey.add(node)\n",
    "            child= 0 if not node in self.graph else len(self.graph[node])\n",
    "            if child==0:\n",
    "                ll=Listnode(node)\n",
    "                ll.next=self.ordered.next\n",
    "                self.ordered.next=ll\n",
    "                self.grey.remove(node)\n",
    "                self.black.add(node)\n",
    "            else:\n",
    "                for nd in self.graph[node]:\n",
    "                    child-=self.dfs(nd)\n",
    "                    if child==0:\n",
    "                        ll=Listnode(node)\n",
    "                        ll.next=self.ordered.next\n",
    "                        self.ordered.next=ll\n",
    "                        self.grey.remove(node)\n",
    "                        self.black.add(node)\n",
    "                        \n",
    "            return 1\n",
    "        return \n",
    "                "
   ]
  },
  {
   "cell_type": "markdown",
   "metadata": {},
   "source": [
    "## BellmanFord"
   ]
  },
  {
   "cell_type": "markdown",
   "metadata": {},
   "source": [
    "### BellmanFord Sample Code"
   ]
  },
  {
   "cell_type": "code",
   "execution_count": 15,
   "metadata": {},
   "outputs": [],
   "source": [
    "# 787. Cheapest Flights Within K Stops on Leetcode\n",
    "\n",
    "from collections import defaultdict\n",
    "class Solution(object):\n",
    "    def findCheapestPrice(self, n, flights, source, dest, K):\n",
    "        \"\"\"\n",
    "        :type n: int\n",
    "        :type flights: List[List[int]]\n",
    "        :type src: int\n",
    "        :type dst: int\n",
    "        :type K: int\n",
    "        :rtype: int\n",
    "        \"\"\"\n",
    "        #create graph \n",
    "        graph = defaultdict(dict)\n",
    "        for flight in flights:\n",
    "            src= flight[0]\n",
    "            to= flight[1]\n",
    "            cost=flight[2]\n",
    "            \n",
    "            graph[src][to]=cost\n",
    "        #initializeSingleSource\n",
    "        distdict= defaultdict(int)\n",
    "        for i in range(n):\n",
    "            distdict[i]=float(\"inf\")\n",
    "        distdict[source]=0\n",
    "  \n",
    "        #BellManFord\n",
    "        for _ in range(n-1):\n",
    "            for fro in graph:\n",
    "                for to in graph[fro]:\n",
    "                    newdist= distdict[fro]+graph[fro][to]\n",
    "                    distdict[to]=min(newdist,distdict[to])\n",
    "        return -1 if distdict[dest]==float(\"inf\") else distdict[dest]\n",
    "            "
   ]
  },
  {
   "cell_type": "markdown",
   "metadata": {},
   "source": [
    "## Dijkstras"
   ]
  },
  {
   "cell_type": "markdown",
   "metadata": {},
   "source": [
    "### Dijkstras Sample Code"
   ]
  },
  {
   "cell_type": "code",
   "execution_count": 16,
   "metadata": {},
   "outputs": [],
   "source": [
    "# 743. Network Delay Time On Leetcode\n",
    "\n",
    "from collections import defaultdict\n",
    "from heapq import *\n",
    "class Solution(object):\n",
    "    def networkDelayTime(self, times, N, K):\n",
    "        \"\"\"\n",
    "        :type times: List[List[int]]\n",
    "        :type N: int\n",
    "        :type K: int\n",
    "        :rtype: int\n",
    "        \"\"\"\n",
    "        #Create Graph \n",
    "        graph=defaultdict(dict)\n",
    "        for node in times:\n",
    "            src= node[0]\n",
    "            dst=node[1]\n",
    "            wt= node[2]\n",
    "            graph[src][dst]=wt\n",
    "        start=K\n",
    "        \n",
    "        dist=[float(\"inf\")]*N\n",
    "        dist[start-1]=0\n",
    "        \n",
    "        S=set()\n",
    "        Q=[]\n",
    "        #populate the Q for source\n",
    "        heappush(Q,(0,start))\n",
    "\n",
    "        \n",
    "        while Q:\n",
    "            # print Q\n",
    "            wt,u=heappop(Q)\n",
    "            S.add(u)\n",
    "            # Q=[]\n",
    "            for v in graph[u]:\n",
    "                #Relax all vertices\n",
    "                dist[v-1]=min(dist[v-1],dist[u-1]+graph[u][v])\n",
    "                #greedy algo, replace q by greedy vertices for current vertice\n",
    "                if v not in S:\n",
    "                    heappush(Q,(graph[u][v],v))\n",
    "        # print dist\n",
    "        return max(dist) if max(dist)<float(\"inf\") else -1\n",
    "        "
   ]
  },
  {
   "cell_type": "code",
   "execution_count": null,
   "metadata": {},
   "outputs": [],
   "source": []
  }
 ],
 "metadata": {
  "kernelspec": {
   "display_name": "Python 3",
   "language": "python",
   "name": "python3"
  },
  "language_info": {
   "codemirror_mode": {
    "name": "ipython",
    "version": 3
   },
   "file_extension": ".py",
   "mimetype": "text/x-python",
   "name": "python",
   "nbconvert_exporter": "python",
   "pygments_lexer": "ipython3",
   "version": "3.7.2"
  }
 },
 "nbformat": 4,
 "nbformat_minor": 2
}
