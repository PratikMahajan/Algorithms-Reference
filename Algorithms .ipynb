{
 "cells": [
  {
   "cell_type": "markdown",
   "metadata": {},
   "source": [
    "# Algorithms "
   ]
  },
  {
   "cell_type": "markdown",
   "metadata": {},
   "source": [
    "## Class Definition"
   ]
  },
  {
   "cell_type": "code",
   "execution_count": 2,
   "metadata": {},
   "outputs": [],
   "source": [
    "import sys"
   ]
  },
  {
   "cell_type": "markdown",
   "metadata": {},
   "source": [
    "##### Linked List Class"
   ]
  },
  {
   "cell_type": "code",
   "execution_count": 3,
   "metadata": {},
   "outputs": [],
   "source": [
    "class ListNode(object):\n",
    "    def __init__(self, x=None):\n",
    "        self.val = x\n",
    "        self.next = None\n",
    "        \n",
    "def printLL(node):\n",
    "    while node:\n",
    "        print (node.val, end=\"->\")\n",
    "        node=node.next\n",
    "\n",
    "def populateLL(array):\n",
    "    node= ListNode(0)\n",
    "    backup=node\n",
    "    for element in array:\n",
    "        node.next=ListNode(element)\n",
    "        node=node.next\n",
    "    return backup.next"
   ]
  },
  {
   "cell_type": "markdown",
   "metadata": {},
   "source": [
    "##### Binary Tree class"
   ]
  },
  {
   "cell_type": "code",
   "execution_count": 4,
   "metadata": {},
   "outputs": [],
   "source": [
    "class TreeNode(object):\n",
    "    def __init__(self, x):\n",
    "        self.val = x\n",
    "        self.left = None\n",
    "        self.right = None"
   ]
  },
  {
   "cell_type": "markdown",
   "metadata": {},
   "source": [
    "## Merge Sort "
   ]
  },
  {
   "cell_type": "code",
   "execution_count": 5,
   "metadata": {},
   "outputs": [
    {
     "data": {
      "text/plain": [
       "[1, 1, 2, 2, 3, 3, 4, 5, 6, 7, 8, 9]"
      ]
     },
     "execution_count": 5,
     "metadata": {},
     "output_type": "execute_result"
    }
   ],
   "source": [
    "class MergeSort(object):\n",
    "    def merge(self, a1, a2):\n",
    "        i,j=0,0\n",
    "        res=[]\n",
    "        while i<len(a1) and j<len(a2):\n",
    "            if a1[i]>a2[j]:\n",
    "                res.append(a2[j])\n",
    "                j+=1\n",
    "            else:\n",
    "                res.append(a1[i])\n",
    "                i+=1\n",
    "        if i<len(a1):\n",
    "            res+=a1[i:]\n",
    "        if j<len(a2):\n",
    "            res+=a2[j:]\n",
    "        return res\n",
    "\n",
    "    def split(self, array):\n",
    "        if len(array)==1:\n",
    "            return [array[0]]\n",
    "        if len(array)==2:\n",
    "            return self.merge([array[0]],[array[1]])\n",
    "        else:\n",
    "            lo=0\n",
    "            hi=len(array)-1\n",
    "            mid=int((lo+hi)/2)\n",
    "            return self.merge(self.split(array[:mid]),self.split(array[mid:]))\n",
    "\n",
    "\n",
    "MergeSort().split([1,2,3,9,8,7,6,5,4,3,2,1])"
   ]
  },
  {
   "cell_type": "markdown",
   "metadata": {},
   "source": [
    "## LinkedList MergeSort"
   ]
  },
  {
   "cell_type": "code",
   "execution_count": 6,
   "metadata": {},
   "outputs": [
    {
     "name": "stdout",
     "output_type": "stream",
     "text": [
      "1->2->3->4->5->6->7->8->9->10->53->None\n"
     ]
    }
   ],
   "source": [
    "class LLMergeSort(object):\n",
    "    def getMid(self, llist):\n",
    "        if llist.next==None:\n",
    "            return llist, None\n",
    "        slowp= llist\n",
    "        fastp= llist.next\n",
    "        while fastp:\n",
    "            if fastp.next:\n",
    "                fastp=fastp.next.next\n",
    "            else:\n",
    "                break\n",
    "            llist=llist.next\n",
    "        mid= llist.next\n",
    "        llist.next=None\n",
    "        return slowp, mid\n",
    "\n",
    "\n",
    "    def merge(self,list1,list2):\n",
    "        res= ListNode(0)\n",
    "        backup= res\n",
    "        while list1 and list2:\n",
    "            if list2.val<list1.val:\n",
    "                res.next=list2\n",
    "                res=res.next\n",
    "                list2=list2.next\n",
    "                res.next=None\n",
    "            else:\n",
    "                res.next=list1\n",
    "                res=res.next\n",
    "                list1=list1.next\n",
    "                res.next=None\n",
    "        res.next = list1 or list2\n",
    "        return backup.next\n",
    "\n",
    "\n",
    "    def split(self,llist):\n",
    "        start,mid=self.getMid(llist)\n",
    "        if mid== None:\n",
    "            return start\n",
    "        else:\n",
    "            return self.merge(self.split(start),self.split(mid))\n",
    "\n",
    "        \n",
    "def runLLMS():\n",
    "    LL= populateLL([10,9,8,4,7,6,5,3,2,53,1])\n",
    "    res= LLMergeSort().split(LL)\n",
    "    print(printLL(res))\n",
    "\n",
    "runLLMS()"
   ]
  },
  {
   "cell_type": "markdown",
   "metadata": {},
   "source": [
    "## O(n) Sliding Window Algorithm\n",
    "**Pseudo algorithm for Ordered Dictionary**"
   ]
  },
  {
   "cell_type": "markdown",
   "metadata": {},
   "source": [
    "Can modify this algorithm to suit any type of problem which involves any kind of sliding window. "
   ]
  },
  {
   "cell_type": "code",
   "execution_count": 22,
   "metadata": {},
   "outputs": [
    {
     "name": "stdout",
     "output_type": "stream",
     "text": [
      "-inf->12->-inf->None\n",
      "-inf->12->13->14->15->-inf->None\n",
      "-inf->13->14->15->16->-inf->None\n",
      "-inf->13->15->16->-inf->None\n"
     ]
    }
   ],
   "source": [
    "class OrderedDict(object):\n",
    "    def __init__(self,capacity):\n",
    "        self.capacity=capacity\n",
    "        self.head=ListNode(\"-inf\")\n",
    "        self.tail=ListNode(\"-inf\")\n",
    "        self.head.next=self.tail\n",
    "        self.tail.prev=self.head\n",
    "        self.dict={}\n",
    "        \n",
    "    def addTail(self,key):\n",
    "        node= ListNode(key)\n",
    "        node.prev= self.tail.prev\n",
    "        node.next=self.tail\n",
    "        self.tail.prev.next=node\n",
    "        self.tail.prev=node\n",
    "        self.dict[key]=node\n",
    "        if len(self.dict)>self.capacity:\n",
    "            self.removeHead()\n",
    "        \n",
    "    def removeNode(self,key):\n",
    "        node= self.dict[key]\n",
    "        node.prev.next=node.next\n",
    "        node.next.prev=node.prev\n",
    "        del self.dict[key]\n",
    "        \n",
    "    def removeHead(self):\n",
    "        key= self.head.next.val\n",
    "        self.removeNode(key)\n",
    "        \n",
    "obj= OrderedDict(4)\n",
    "obj.addTail(12)\n",
    "print(printLL(obj.head))\n",
    "obj.addTail(13)\n",
    "obj.addTail(14)\n",
    "obj.addTail(15)\n",
    "print(printLL(obj.head))\n",
    "obj.addTail(16)\n",
    "print(printLL(obj.head))\n",
    "obj.removeNode(14)\n",
    "print(printLL(obj.head))"
   ]
  },
  {
   "cell_type": "code",
   "execution_count": 36,
   "metadata": {},
   "outputs": [
    {
     "data": {
      "text/plain": [
       "0"
      ]
     },
     "execution_count": 36,
     "metadata": {},
     "output_type": "execute_result"
    }
   ],
   "source": [
    "int((0+1)/2)"
   ]
  },
  {
   "cell_type": "markdown",
   "metadata": {},
   "source": [
    "## Get a Separator in a rotated sorted Array\n",
    "**Modification of Binary search**"
   ]
  },
  {
   "cell_type": "code",
   "execution_count": 37,
   "metadata": {},
   "outputs": [
    {
     "name": "stdout",
     "output_type": "stream",
     "text": [
      "8\n"
     ]
    }
   ],
   "source": [
    "class SortedSeparator(object):\n",
    "    def getSeparator(self,nums):\n",
    "        lo=0\n",
    "        hi=int(len(nums)-1)\n",
    "        while lo<hi:\n",
    "            mid=int((lo+hi)/2)\n",
    "            if nums[mid]>nums[hi]:\n",
    "                lo=mid+1\n",
    "            else:\n",
    "                hi=mid   \n",
    "        return lo\n",
    "print(SortedSeparator().getSeparator([7,8,9,10,12,23,45,67,1,3,4,5,6]))"
   ]
  },
  {
   "cell_type": "code",
   "execution_count": null,
   "metadata": {},
   "outputs": [],
   "source": []
  }
 ],
 "metadata": {
  "kernelspec": {
   "display_name": "Python 3",
   "language": "python",
   "name": "python3"
  },
  "language_info": {
   "codemirror_mode": {
    "name": "ipython",
    "version": 3
   },
   "file_extension": ".py",
   "mimetype": "text/x-python",
   "name": "python",
   "nbconvert_exporter": "python",
   "pygments_lexer": "ipython3",
   "version": "3.7.2"
  }
 },
 "nbformat": 4,
 "nbformat_minor": 2
}
