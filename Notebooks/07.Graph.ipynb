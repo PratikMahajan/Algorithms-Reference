{
 "cells": [
  {
   "cell_type": "markdown",
   "metadata": {},
   "source": [
    "# Graph"
   ]
  },
  {
   "cell_type": "markdown",
   "metadata": {},
   "source": [
    "## Graph Declaration\n",
    "\n",
    "#### Graph (no weight):\n",
    "```python3\n",
    "graph = defaultdict(set)\n",
    "```\n",
    "#### Graph (with weight)\n",
    "```python3\n",
    "graph = defaultdict(dict)\n",
    "# Here, weight will be value and vertex will be dictionary keys\n",
    "```\n"
   ]
  },
  {
   "cell_type": "markdown",
   "metadata": {},
   "source": [
    "## Types of Nodes\n",
    "1. Black: No outgoing or all outgoing nodes are visited\n",
    "2. Grey: Currently exploring the node, but not yet finished\n",
    "3. White: Currently unexplored node, i.e. not yet visited\n",
    "\n",
    "## Types of Edges\n",
    "1. Grey to White: Discovery Edge\n",
    "2. Grey to Grey: Back Edge\n",
    "3. Grey(first) to Black: Forward Edge\n",
    "4. Grey to Black(first): Cross Edge\n",
    "\n",
    "## What is Discovery Time and Finish Time\n",
    "Consider that you start at node A. The discovery time of this node will be 1 as it is the first node. As we go deep into the graph, keep incrementing this number. When we reach a node which has no outgoing edge, we consider that the discovery of this node is complete, thats when we mark it as finish time. As we come one level up after completed discovery, we still keep on incrementing this time untill the end of algorithm. This time can be imaginary and we dont have to keep track of it. Its just the order in which we discover and finish discovering a node. Thus the source will be the first one to be discovered and last one to be finished in its own tree. \n"
   ]
  },
  {
   "cell_type": "markdown",
   "metadata": {},
   "source": [
    " "
   ]
  },
  {
   "cell_type": "markdown",
   "metadata": {},
   "source": [
    "## Topological sort with DFS Algorithm basics"
   ]
  },
  {
   "cell_type": "markdown",
   "metadata": {},
   "source": [
    "\n",
    "* If next node is white, convert it from white to grey and keep going deep. \n",
    "* if there is no outgoing node from the current node, convert it to black and go one level up. \n",
    "* Once all the node is marked as black, insert it to the front of the LinkedList that keeps node in a topologically sorted order.\n",
    "* If all child nodes are black, convery the current node(grey) to black and go one level up. \n",
    "* If while exploring, we encounter a node which is grey, there is a cycle in graph. (Cycle should not be there in a DAG- Directed Acyclic Graph). Its better to check for this condition as it has various uses in Algorithms. In this case, add this node to a list of cycling nodes. One way to handle it can be convert it to black and go one level up. \n",
    "* If all nodes originating at one source are traversed, check if there is any independent tree in the graph. If yes, continue the same algorithm again. \n",
    "\n",
    "Here,\n",
    "* Visited :\n",
    "\t* Can be an array where \n",
    "\t\t* 0-> White\n",
    "\t\t* -1 -> Black\n",
    "\t\t* 1 -> Grey\n",
    "\t* if we consider it as a `set` , we will have to maintain 3 sets, one each for white, grey and black. \n",
    "* We will have to maintain a LinkedList to keep toplogically sorted nodes in order. Or we can also use an OrderedDict which is nothing but a datastructure made up of dictionary and linkedlist. \n",
    "\n",
    "### Topological Sort Algo\n",
    "*According to Algorithm Design-CLRS*<br/>\n",
    "```\n",
    "TOPOLOGICAL-SORT(G)\n",
    "1. call DFS(G) to compute finishing times 􏰁v.f for each vertex 􏰁v\n",
    "2. as each vertex is finished, insert it onto the front of a linked list\n",
    "3. return the linked list of vertices\n",
    "```\n"
   ]
  },
  {
   "cell_type": "markdown",
   "metadata": {},
   "source": [
    "### Sample Topological Sort Code"
   ]
  },
  {
   "cell_type": "code",
   "execution_count": 3,
   "metadata": {},
   "outputs": [],
   "source": [
    "from collections import defaultdict\n",
    "class Listnode(object):\n",
    "    def __init__(self,key):\n",
    "        self.key=key\n",
    "        # self.val=val\n",
    "        self.next=None\n",
    "\n",
    "class Solution(object):\n",
    "    def canFinish(self, n, pres):\n",
    "        \"\"\"\n",
    "        :type numCourses: int\n",
    "        :type prerequisites: List[List[int]]\n",
    "        :rtype: bool\n",
    "        \"\"\"\n",
    "        self.graph = defaultdict(set)\n",
    "        for req in pres:\n",
    "            prereq=req[1]\n",
    "            subj=req[0]\n",
    "            self.graph[prereq].add(subj)\n",
    "        self.ordered=Listnode(float(\"inf\"))\n",
    "        self.white= set([i for i in xrange(n)])\n",
    "        self.black=set()\n",
    "        self.cycles=set()\n",
    "        self.grey=set()\n",
    "        for i in xrange(n):\n",
    "            if i in self.white:\n",
    "                self.dfs(i)\n",
    "        # print self.white,self.grey,self.black,self.cycles\n",
    "        return len(self.cycles)==0\n",
    "        \n",
    "        \n",
    "    def dfs(self,node):\n",
    "        if node in self.black:\n",
    "            return \n",
    "        elif node in self.grey:\n",
    "            self.cycles.add(node)\n",
    "            return \n",
    "        else:\n",
    "            self.white.remove(node)\n",
    "            self.grey.add(node)\n",
    "            for nd in self.graph[node]:\n",
    "                self.dfs(nd)\n",
    "            ll=Listnode(node)\n",
    "            ll.next=self.ordered.next\n",
    "            self.ordered.next=ll\n",
    "            self.grey.remove(node)\n",
    "            self.black.add(node)\n",
    "        return \n",
    "                "
   ]
  },
  {
   "cell_type": "code",
   "execution_count": 2,
   "metadata": {},
   "outputs": [],
   "source": [
    "# Simple application of Topological Sort to detect circles in graph \n",
    "# 207. Course Schedule on Leetcode\n",
    "\n",
    "from collections import defaultdict\n",
    "class Solution(object):\n",
    "    def canFinish(self, numCourses, prerequisites):\n",
    "        \"\"\"\n",
    "        :type numCourses: int\n",
    "        :type prerequisites: List[List[int]]\n",
    "        :rtype: bool\n",
    "        \"\"\"\n",
    "        \n",
    "        if not prerequisites:\n",
    "            return True\n",
    "        self.graph = defaultdict(set)\n",
    "        \n",
    "        for course, prereq in prerequisites:\n",
    "            self.graph[course].add(prereq)\n",
    "            \n",
    "        self.white = set([i for i in xrange(numCourses)])\n",
    "        self.grey = set()\n",
    "        self.black= set()\n",
    "        self.cycle = set()\n",
    "        \n",
    "        for i in xrange(numCourses):\n",
    "            if i in self.white:\n",
    "                self.dfs(i)\n",
    "            \n",
    "        return len(self.cycle)==0\n",
    "    \n",
    "    def dfs(self, node):\n",
    "        if node in self.grey:\n",
    "            self.cycle.add(node)\n",
    "            return\n",
    "        elif node in self.black:\n",
    "            return\n",
    "        else:\n",
    "            self.white.remove(node)\n",
    "            self.grey.add(node)\n",
    "            for ele in self.graph[node]:\n",
    "                self.dfs(ele)\n",
    "            self.grey.remove(node)\n",
    "            self.black.add(node)\n",
    "            \n",
    "        return "
   ]
  },
  {
   "cell_type": "markdown",
   "metadata": {},
   "source": [
    " "
   ]
  },
  {
   "cell_type": "markdown",
   "metadata": {},
   "source": [
    "## Strongly Connected Components"
   ]
  },
  {
   "cell_type": "markdown",
   "metadata": {},
   "source": [
    "`SCC` - Sub group of vertices where all  `U` -> `V` are reachable.\n",
    "\n",
    "### SCC from DAG:\n",
    "* Stage 1:\n",
    "        Run DFS :\n",
    "        get Nodes with highest finish time\n",
    "* Stage 2:\n",
    "        Run DFS on Graph(V, reverse edges) starting from highest finish time\n",
    "    (Because when we reverse edges, all the cycles can be reached, but all the outside nodes will be cut off)"
   ]
  },
  {
   "cell_type": "markdown",
   "metadata": {},
   "source": [
    "###### Read CLRS 22.5 (Strongly Connected Components)"
   ]
  },
  {
   "cell_type": "markdown",
   "metadata": {},
   "source": [
    " "
   ]
  },
  {
   "cell_type": "markdown",
   "metadata": {},
   "source": [
    "## Minimum Spanning Trees"
   ]
  },
  {
   "cell_type": "markdown",
   "metadata": {},
   "source": [
    "A minimum spanning tree or minimum weight spanning tree is a subset of all the edges of a connected, edge weighted directed graph that connects all the vertices together, without any circle and with minumum possible total edge weight."
   ]
  },
  {
   "cell_type": "markdown",
   "metadata": {},
   "source": [
    " "
   ]
  },
  {
   "cell_type": "markdown",
   "metadata": {},
   "source": [
    "## Single Source Shortest Path"
   ]
  },
  {
   "cell_type": "markdown",
   "metadata": {},
   "source": [
    "#### Negative Weight Edges\n",
    "Some instances of the single-source shortest-paths problem may include edges whose weights are negative. If the graph G=(V,E) contains no negative- weight cycles reachable from the source s, then for all 􏰁 v belonging to V , the shortest-path weight SP(s,v) remains well defined, even if it has a negative value. If the graph contains a negative-weight cycle reachable from s, however, shortest-path weights are not well defined. No path from s to a vertex on the cycle can be a shortest-path—-we can always find a path with lower weight by following the proposed \"shortest\" path and then traversing the negative-weight cycle. If there is a negative- weight cycle on some path from s to v􏰁, we define SP(s,v)=-infinity"
   ]
  },
  {
   "cell_type": "markdown",
   "metadata": {},
   "source": [
    "### Relaxation"
   ]
  },
  {
   "cell_type": "markdown",
   "metadata": {},
   "source": [
    "Shortest path of edges of the path are relaxed in path order\n",
    "\n",
    "```\n",
    "ESP(S,V) = SP(S,V) found so far\n",
    "# S = Starting point\n",
    "# ESP = Estimated Shortest Path\n",
    "\n",
    "if ESP(S,V) + E(U,V) < ESP(S,V):\n",
    "    Update(Relax) ESP(S,V) = ESP(S,U)+ESP(U,V)\n",
    "\n",
    "```\n",
    "\n",
    "**Optimal Solution Structure**\n",
    "```\n",
    "(S)-------(U)-------(V)\n",
    "\n",
    "If SP(S,V), then SP(S,U) and SP(U,V)\n",
    "# If this is the given shortest path from (S,V) then, (S,U) is shortest path and (U,V) is shortest path\n",
    "```"
   ]
  },
  {
   "cell_type": "markdown",
   "metadata": {},
   "source": [
    "### Initializing Single Source (G,S)"
   ]
  },
  {
   "cell_type": "markdown",
   "metadata": {},
   "source": [
    "```\n",
    "For each vertex v in G.v\n",
    "    v.d  = infinity\n",
    "    v.pi = None\n",
    "    \n",
    "S.d = 0\n",
    "```\n",
    "Here, \\\n",
    "S  = Source \\\n",
    "pi = Parent \\\n",
    "d  = Distance from S \\\n",
    "G  = Graph\n",
    "##### CLRS pg. 648"
   ]
  },
  {
   "cell_type": "markdown",
   "metadata": {},
   "source": [
    "### Relaxation of Edge(U,V) in O(1)"
   ]
  },
  {
   "cell_type": "markdown",
   "metadata": {},
   "source": [
    "```\n",
    "Relax(u,v,w):\n",
    "    if v.d > (u.d+w(u,v)):\n",
    "        v.d = u.d +w(u,v)\n",
    "        v.pi= u\n",
    "```\n",
    "Here, \\\n",
    "u-> source \\\n",
    "v-> destination \\\n",
    "w-> weight from u to v \n",
    "##### CLRS pg.649"
   ]
  },
  {
   "cell_type": "markdown",
   "metadata": {},
   "source": [
    "### BellmanFord"
   ]
  },
  {
   "cell_type": "markdown",
   "metadata": {},
   "source": [
    "The Bellman-Ford algorithm solves the single-source shortest-paths problem in the general case in which edge weights may be negative."
   ]
  },
  {
   "cell_type": "markdown",
   "metadata": {},
   "source": [
    "The Bellman-Ford algorithm returns a boolean value indicating whether or not there is a negative-weight cycle that is reachable from the source. If there is such a cycle, the algorithm indicates that no solution exists. If there is no such cycle, the algorithm produces the shortest paths and their weights.\n",
    "\n",
    "The algorithm relaxes edges, progressively decreasing an estimate 􏰁:d on the weight of a shortest path from the source s to each vertex v belonging to V until it achieves the actual shortest-path weight SP(s,v) The algorithm returns TRUE if and only if the graph contains no negative-weight cycles that are reachable from the source."
   ]
  },
  {
   "cell_type": "markdown",
   "metadata": {},
   "source": [
    "#### Bellmanford Pseudo Algorithm"
   ]
  },
  {
   "cell_type": "markdown",
   "metadata": {},
   "source": [
    "```\n",
    "Bellmanford(G,w,s):\n",
    "    InitializeSingleSource(G,s)\n",
    "    for i=1 to |G.V|-1 #-----> i\n",
    "        for each edge(u,v) in G.E:\n",
    "            Relax(u,v,w)\n",
    "    for each edge(u,v) in G.E: # -----> ii\n",
    "        if v.d>u.d+w(u,v):\n",
    "            return False\n",
    "    return True\n",
    "```\n",
    "`G.V` = Number of vertices \\\n",
    "i -> Shortest path from one node to all other nodes in a graph \\\n",
    "ii-> Checks if there is any negative edge cycle in the graph, if there is, returns False"
   ]
  },
  {
   "cell_type": "markdown",
   "metadata": {},
   "source": [
    "* BellmanFord is not a greedy algorithm\n",
    "* Every edge is relaxed for `n-1` times, where `n` is number of vertices"
   ]
  },
  {
   "cell_type": "markdown",
   "metadata": {},
   "source": [
    "**Run time for BellmanFord is `O(VE)`** \\\n",
    "Since the initialization takes `O(V)` time, each of the `|V|-1` passes over the edges takes `O(E)` time, and the for loop(ii) takes O(E) time."
   ]
  },
  {
   "cell_type": "markdown",
   "metadata": {},
   "source": [
    "#### BellmanFord Sample Code"
   ]
  },
  {
   "cell_type": "code",
   "execution_count": 4,
   "metadata": {},
   "outputs": [],
   "source": [
    "# 787. Cheapest Flights Within K Stops on Leetcode\n",
    "\n",
    "from collections import defaultdict\n",
    "class Solution(object):\n",
    "    def findCheapestPrice(self, n, flights, source, dest, K):\n",
    "        \"\"\"\n",
    "        :type n: int\n",
    "        :type flights: List[List[int]]\n",
    "        :type src: int\n",
    "        :type dst: int\n",
    "        :type K: int\n",
    "        :rtype: int\n",
    "        \"\"\"\n",
    "        #create graph \n",
    "        graph = defaultdict(dict)\n",
    "        for flight in flights:\n",
    "            src= flight[0]\n",
    "            to= flight[1]\n",
    "            cost=flight[2]\n",
    "            \n",
    "            graph[src][to]=cost\n",
    "        #initializeSingleSource\n",
    "        distdict= defaultdict(int)\n",
    "        for i in range(n):\n",
    "            distdict[i]=float(\"inf\")\n",
    "        distdict[source]=0\n",
    "  \n",
    "        #BellManFord\n",
    "        for _ in range(n-1):\n",
    "            for fro in graph:\n",
    "                for to in graph[fro]:\n",
    "                    newdist= distdict[fro]+graph[fro][to]\n",
    "                    distdict[to]=min(newdist,distdict[to])\n",
    "        return -1 if distdict[dest]==float(\"inf\") else distdict[dest]\n",
    "            "
   ]
  },
  {
   "cell_type": "markdown",
   "metadata": {},
   "source": [
    " "
   ]
  },
  {
   "cell_type": "markdown",
   "metadata": {},
   "source": [
    "### SSSP in Directed Acyclic Graphs"
   ]
  },
  {
   "cell_type": "markdown",
   "metadata": {},
   "source": [
    "By relaxing the edges of a weighted dag (directed acyclic graph) G=(V,E) according to a topological sort of its vertices, we can compute shortest paths from a single source in `O(V+E) time`. \n",
    "\n",
    "Shortest paths are always well defined in a dag, since even if there are negative-weight edges, no negative-weight cycles can exist."
   ]
  },
  {
   "cell_type": "markdown",
   "metadata": {},
   "source": [
    "```\n",
    "DAG-Shortest-Paths(G,w,s):\n",
    "    TopologicalSort(G)\n",
    "    InitializeSingleSource(G,s)\n",
    "    for each vertex u, taken in topologically dorted order:\n",
    "        for each vertex v in G.Adj[u]:\n",
    "            Relax(u,v,w)\n",
    "```\n",
    "G.Adj[u]--> Every vertex connected to u "
   ]
  },
  {
   "cell_type": "markdown",
   "metadata": {},
   "source": [
    "##### 24.2 in CLRS, pg 656"
   ]
  },
  {
   "cell_type": "markdown",
   "metadata": {},
   "source": [
    " "
   ]
  },
  {
   "cell_type": "markdown",
   "metadata": {},
   "source": [
    "### Dijkstras"
   ]
  },
  {
   "cell_type": "markdown",
   "metadata": {},
   "source": [
    "#### Dijkstras Sample Code"
   ]
  },
  {
   "cell_type": "code",
   "execution_count": 5,
   "metadata": {},
   "outputs": [],
   "source": [
    "# 743. Network Delay Time On Leetcode\n",
    "\n",
    "from collections import defaultdict\n",
    "from heapq import *\n",
    "class Solution(object):\n",
    "    def networkDelayTime(self, times, N, K):\n",
    "        \"\"\"\n",
    "        :type times: List[List[int]]\n",
    "        :type N: int\n",
    "        :type K: int\n",
    "        :rtype: int\n",
    "        \"\"\"\n",
    "        #Create Graph \n",
    "        graph=defaultdict(dict)\n",
    "        for node in times:\n",
    "            src= node[0]\n",
    "            dst=node[1]\n",
    "            wt= node[2]\n",
    "            graph[src][dst]=wt\n",
    "        start=K\n",
    "        \n",
    "        dist=[float(\"inf\")]*N\n",
    "        dist[start-1]=0\n",
    "        \n",
    "        S=set()\n",
    "        Q=[]\n",
    "        #populate the Q for source\n",
    "        heappush(Q,(0,start))\n",
    "\n",
    "        \n",
    "        while Q:\n",
    "            # print Q\n",
    "            wt,u=heappop(Q)\n",
    "            S.add(u)\n",
    "            # Q=[]\n",
    "            for v in graph[u]:\n",
    "                #Relax all vertices\n",
    "                dist[v-1]=min(dist[v-1],dist[u-1]+graph[u][v])\n",
    "                #greedy algo, replace q by greedy vertices for current vertice\n",
    "                if v not in S:\n",
    "                    heappush(Q,(graph[u][v],v))\n",
    "        # print dist\n",
    "        return max(dist) if max(dist)<float(\"inf\") else -1\n",
    "        "
   ]
  },
  {
   "cell_type": "code",
   "execution_count": null,
   "metadata": {},
   "outputs": [],
   "source": []
  }
 ],
 "metadata": {
  "kernelspec": {
   "display_name": "Python 3",
   "language": "python",
   "name": "python3"
  },
  "language_info": {
   "codemirror_mode": {
    "name": "ipython",
    "version": 3
   },
   "file_extension": ".py",
   "mimetype": "text/x-python",
   "name": "python",
   "nbconvert_exporter": "python",
   "pygments_lexer": "ipython3",
   "version": "3.7.4"
  }
 },
 "nbformat": 4,
 "nbformat_minor": 2
}
