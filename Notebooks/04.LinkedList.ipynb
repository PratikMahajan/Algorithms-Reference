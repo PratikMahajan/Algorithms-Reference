{
 "cells": [
  {
   "cell_type": "markdown",
   "metadata": {},
   "source": [
    "# LinkedList"
   ]
  },
  {
   "cell_type": "markdown",
   "metadata": {},
   "source": [
    "# Class Definition"
   ]
  },
  {
   "cell_type": "code",
   "execution_count": 1,
   "metadata": {},
   "outputs": [],
   "source": [
    "import sys"
   ]
  },
  {
   "cell_type": "markdown",
   "metadata": {},
   "source": [
    "### Linkedlist Class"
   ]
  },
  {
   "cell_type": "code",
   "execution_count": 2,
   "metadata": {},
   "outputs": [],
   "source": [
    "class ListNode(object):\n",
    "    def __init__(self, x=None):\n",
    "        self.val = x\n",
    "        self.next = None\n",
    "        \n",
    "def printLL(node):\n",
    "    while node:\n",
    "        print (node.val, end=\"->\")\n",
    "        node=node.next\n",
    "\n",
    "def populateLL(array):\n",
    "    node= ListNode(0)\n",
    "    backup=node\n",
    "    for element in array:\n",
    "        node.next=ListNode(element)\n",
    "        node=node.next\n",
    "    return backup.next"
   ]
  },
  {
   "cell_type": "markdown",
   "metadata": {},
   "source": [
    "## LinkedList MergeSort"
   ]
  },
  {
   "cell_type": "code",
   "execution_count": 3,
   "metadata": {},
   "outputs": [
    {
     "name": "stdout",
     "output_type": "stream",
     "text": [
      "1->2->3->4->5->6->7->8->9->10->53->None\n"
     ]
    }
   ],
   "source": [
    "class LLMergeSort(object):\n",
    "    def getMid(self, llist):\n",
    "        if llist.next==None:\n",
    "            return llist, None\n",
    "        slowp= llist\n",
    "        fastp= llist.next\n",
    "        while fastp:\n",
    "            if fastp.next:\n",
    "                fastp=fastp.next.next\n",
    "            else:\n",
    "                break\n",
    "            llist=llist.next\n",
    "        mid= llist.next\n",
    "        llist.next=None\n",
    "        return slowp, mid\n",
    "\n",
    "\n",
    "    def merge(self,list1,list2):\n",
    "        res= ListNode(0)\n",
    "        backup= res\n",
    "        while list1 and list2:\n",
    "            if list2.val<list1.val:\n",
    "                res.next=list2\n",
    "                res=res.next\n",
    "                list2=list2.next\n",
    "                res.next=None\n",
    "            else:\n",
    "                res.next=list1\n",
    "                res=res.next\n",
    "                list1=list1.next\n",
    "                res.next=None\n",
    "        res.next = list1 or list2\n",
    "        return backup.next\n",
    "\n",
    "\n",
    "    def split(self,llist):\n",
    "        start,mid=self.getMid(llist)\n",
    "        if mid== None:\n",
    "            return start\n",
    "        else:\n",
    "            return self.merge(self.split(start),self.split(mid))\n",
    "\n",
    "        \n",
    "def runLLMS():\n",
    "    LL= populateLL([10,9,8,4,7,6,5,3,2,53,1])\n",
    "    res= LLMergeSort().split(LL)\n",
    "    print(printLL(res))\n",
    "\n",
    "runLLMS()"
   ]
  },
  {
   "cell_type": "code",
   "execution_count": null,
   "metadata": {},
   "outputs": [],
   "source": []
  }
 ],
 "metadata": {
  "kernelspec": {
   "display_name": "Python 3",
   "language": "python",
   "name": "python3"
  },
  "language_info": {
   "codemirror_mode": {
    "name": "ipython",
    "version": 3
   },
   "file_extension": ".py",
   "mimetype": "text/x-python",
   "name": "python",
   "nbconvert_exporter": "python",
   "pygments_lexer": "ipython3",
   "version": "3.7.2"
  }
 },
 "nbformat": 4,
 "nbformat_minor": 2
}
