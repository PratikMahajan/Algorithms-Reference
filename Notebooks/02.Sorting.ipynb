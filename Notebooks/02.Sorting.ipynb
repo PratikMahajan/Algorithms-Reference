{
 "cells": [
  {
   "cell_type": "markdown",
   "metadata": {},
   "source": [
    "# Sorting"
   ]
  },
  {
   "cell_type": "markdown",
   "metadata": {},
   "source": [
    "## Merge Sort "
   ]
  },
  {
   "cell_type": "code",
   "execution_count": 1,
   "metadata": {},
   "outputs": [
    {
     "data": {
      "text/plain": [
       "[1, 1, 2, 2, 3, 3, 4, 5, 6, 7, 8, 9]"
      ]
     },
     "execution_count": 1,
     "metadata": {},
     "output_type": "execute_result"
    }
   ],
   "source": [
    "class MergeSort(object):\n",
    "    def merge(self, a1, a2):\n",
    "        i,j=0,0\n",
    "        res=[]\n",
    "        while i<len(a1) and j<len(a2):\n",
    "            if a1[i]>a2[j]:\n",
    "                res.append(a2[j])\n",
    "                j+=1\n",
    "            else:\n",
    "                res.append(a1[i])\n",
    "                i+=1\n",
    "        if i<len(a1):\n",
    "            res+=a1[i:]\n",
    "        if j<len(a2):\n",
    "            res+=a2[j:]\n",
    "        return res\n",
    "\n",
    "    def split(self, array):\n",
    "        if len(array)==1:\n",
    "            return [array[0]]\n",
    "        if len(array)==2:\n",
    "            return self.merge([array[0]],[array[1]])\n",
    "        else:\n",
    "            lo=0\n",
    "            hi=len(array)-1\n",
    "            mid=int((lo+hi)/2)\n",
    "            return self.merge(self.split(array[:mid]),self.split(array[mid:]))\n",
    "\n",
    "\n",
    "MergeSort().split([1,2,3,9,8,7,6,5,4,3,2,1])"
   ]
  },
  {
   "cell_type": "code",
   "execution_count": null,
   "metadata": {},
   "outputs": [],
   "source": []
  }
 ],
 "metadata": {
  "kernelspec": {
   "display_name": "Python 3",
   "language": "python",
   "name": "python3"
  },
  "language_info": {
   "codemirror_mode": {
    "name": "ipython",
    "version": 3
   },
   "file_extension": ".py",
   "mimetype": "text/x-python",
   "name": "python",
   "nbconvert_exporter": "python",
   "pygments_lexer": "ipython3",
   "version": "3.7.2"
  }
 },
 "nbformat": 4,
 "nbformat_minor": 2
}
