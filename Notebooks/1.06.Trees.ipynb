{
 "cells": [
  {
   "cell_type": "markdown",
   "metadata": {},
   "source": [
    "# Trees"
   ]
  },
  {
   "cell_type": "markdown",
   "metadata": {},
   "source": [
    "##### Binary Tree Class"
   ]
  },
  {
   "cell_type": "code",
   "execution_count": 8,
   "metadata": {},
   "outputs": [],
   "source": [
    "class TreeNode(object):\n",
    "    def __init__(self, x):\n",
    "        self.val = x\n",
    "        self.left = None\n",
    "        self.right = None"
   ]
  },
  {
   "cell_type": "markdown",
   "metadata": {},
   "source": [
    "## DFS in Tree"
   ]
  },
  {
   "cell_type": "markdown",
   "metadata": {},
   "source": [
    "### Iterative Solution"
   ]
  },
  {
   "cell_type": "code",
   "execution_count": 2,
   "metadata": {},
   "outputs": [],
   "source": [
    "def dfs(self,root):\n",
    "    stack=[]\n",
    "\n",
    "    while root or stack:\n",
    "        while root:\n",
    "            stack.append(root)\n",
    "            root=root.left\n",
    "\n",
    "        node=stack.pop()\n",
    "        print (node.val)\n",
    "        root=node.right"
   ]
  },
  {
   "cell_type": "markdown",
   "metadata": {},
   "source": [
    "### Recursive Solution"
   ]
  },
  {
   "cell_type": "code",
   "execution_count": 3,
   "metadata": {},
   "outputs": [],
   "source": [
    "# Inorder\n",
    "def dfsInorder(self,node):\n",
    "    if not node:\n",
    "        return \n",
    "    \n",
    "    self.dfsInorder(node.left)\n",
    "    print (node.val)\n",
    "    self.dfsInorder(node.right)"
   ]
  },
  {
   "cell_type": "code",
   "execution_count": 4,
   "metadata": {},
   "outputs": [],
   "source": [
    "# Postorder\n",
    "def dfsPostorder(self,node):\n",
    "    if not node:\n",
    "        return \n",
    "    \n",
    "    self.dfsPostorder(node.left)\n",
    "    self.dfsPostorder(node.right)\n",
    "    print (node.val)"
   ]
  },
  {
   "cell_type": "code",
   "execution_count": 5,
   "metadata": {},
   "outputs": [],
   "source": [
    "# Preorder\n",
    "def dfsPreorder(self,node):\n",
    "    if not node:\n",
    "        return \n",
    "    \n",
    "    print (node.val)    \n",
    "    self.dfsPreorder(node.left)\n",
    "    self.dfsPreorder(node.right)"
   ]
  },
  {
   "cell_type": "markdown",
   "metadata": {},
   "source": [
    "## BFS in Tree"
   ]
  },
  {
   "cell_type": "code",
   "execution_count": 6,
   "metadata": {},
   "outputs": [],
   "source": [
    "def bfs(self,root):\n",
    "    q = [root]\n",
    "    q_u = []\n",
    "\n",
    "    result=[]\n",
    "\n",
    "    # Complexity remains same even if using two while loops. \n",
    "    # Using two while loops to print all elements at a particular depth \n",
    "    # Using one queue will attain the same result, just differentiating elements by depth will be difficult\n",
    "    while q:\n",
    "        while q:\n",
    "            node = q.pop()\n",
    "            if node:\n",
    "                q_u.append(node.left)\n",
    "                q_u.append(node.right)\n",
    "\n",
    "                result.append(node.val)\n",
    "        q=q_u[::-1]\n",
    "        q_u=[]\n",
    "        \n",
    "    return result "
   ]
  },
  {
   "cell_type": "code",
   "execution_count": null,
   "metadata": {},
   "outputs": [],
   "source": []
  }
 ],
 "metadata": {
  "kernelspec": {
   "display_name": "Python 3",
   "language": "python",
   "name": "python3"
  },
  "language_info": {
   "codemirror_mode": {
    "name": "ipython",
    "version": 3
   },
   "file_extension": ".py",
   "mimetype": "text/x-python",
   "name": "python",
   "nbconvert_exporter": "python",
   "pygments_lexer": "ipython3",
   "version": "3.7.4"
  }
 },
 "nbformat": 4,
 "nbformat_minor": 2
}
