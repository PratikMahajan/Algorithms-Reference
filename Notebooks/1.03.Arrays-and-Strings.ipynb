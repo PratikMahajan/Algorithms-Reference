{
 "cells": [
  {
   "cell_type": "markdown",
   "metadata": {},
   "source": [
    "# Arrays and Strings"
   ]
  },
  {
   "cell_type": "markdown",
   "metadata": {},
   "source": [
    "## Class Definition"
   ]
  },
  {
   "cell_type": "code",
   "execution_count": 1,
   "metadata": {},
   "outputs": [],
   "source": [
    "import sys"
   ]
  },
  {
   "cell_type": "markdown",
   "metadata": {},
   "source": [
    "##### Linkedlist Class"
   ]
  },
  {
   "cell_type": "code",
   "execution_count": 2,
   "metadata": {},
   "outputs": [],
   "source": [
    "class ListNode(object):\n",
    "    def __init__(self, x=None):\n",
    "        self.val = x\n",
    "        self.next = None\n",
    "        \n",
    "def printLL(node):\n",
    "    while node:\n",
    "        print (node.val, end=\"->\")\n",
    "        node=node.next\n",
    "\n",
    "def populateLL(array):\n",
    "    node= ListNode(0)\n",
    "    backup=node\n",
    "    for element in array:\n",
    "        node.next=ListNode(element)\n",
    "        node=node.next\n",
    "    return backup.next"
   ]
  },
  {
   "cell_type": "markdown",
   "metadata": {},
   "source": [
    "## O(n) Sliding Window Algorithm (Single Pointer)\n",
    "**Pseudo algorithm for Ordered Dictionary**"
   ]
  },
  {
   "cell_type": "markdown",
   "metadata": {},
   "source": [
    "Can modify this algorithm to suit any type of problem which involves any kind of sliding window or stream processing. "
   ]
  },
  {
   "cell_type": "code",
   "execution_count": 3,
   "metadata": {},
   "outputs": [
    {
     "name": "stdout",
     "output_type": "stream",
     "text": [
      "-inf->12->-inf->None\n",
      "-inf->12->13->14->15->-inf->None\n",
      "-inf->13->14->15->16->-inf->None\n",
      "-inf->13->15->16->-inf->None\n"
     ]
    }
   ],
   "source": [
    "class OrderedDict(object):\n",
    "    def __init__(self,capacity):\n",
    "        self.capacity=capacity\n",
    "        self.head=ListNode(\"-inf\")\n",
    "        self.tail=ListNode(\"-inf\")\n",
    "        self.head.next=self.tail\n",
    "        self.tail.prev=self.head\n",
    "        self.dict={}\n",
    "        \n",
    "    def addTail(self,key):\n",
    "        node= ListNode(key)\n",
    "        node.prev= self.tail.prev\n",
    "        node.next=self.tail\n",
    "        self.tail.prev.next=node\n",
    "        self.tail.prev=node\n",
    "        self.dict[key]=node\n",
    "        if len(self.dict)>self.capacity:\n",
    "            self.removeHead()\n",
    "        \n",
    "    def removeNode(self,key):\n",
    "        node= self.dict[key]\n",
    "        node.prev.next=node.next\n",
    "        node.next.prev=node.prev\n",
    "        del self.dict[key]\n",
    "        \n",
    "    def removeHead(self):\n",
    "        key= self.head.next.val\n",
    "        self.removeNode(key)\n",
    "        \n",
    "obj= OrderedDict(4)\n",
    "obj.addTail(12)\n",
    "print(printLL(obj.head))\n",
    "obj.addTail(13)\n",
    "obj.addTail(14)\n",
    "obj.addTail(15)\n",
    "print(printLL(obj.head))\n",
    "obj.addTail(16)\n",
    "print(printLL(obj.head))\n",
    "obj.removeNode(14)\n",
    "print(printLL(obj.head))"
   ]
  },
  {
   "cell_type": "markdown",
   "metadata": {},
   "source": [
    "## O(n) Sliding Window Algorithm (Consecutive Elements)"
   ]
  },
  {
   "cell_type": "markdown",
   "metadata": {},
   "source": [
    "In sums where we need to compare two windows, we can create and store the window in either a `set` or `dict`. \n",
    "\n",
    "In the example below, we are storing the window in a `dict`. \n",
    "Make sure that the size of widows remain same at all time. Thus `del` in the below method."
   ]
  },
  {
   "cell_type": "code",
   "execution_count": 4,
   "metadata": {},
   "outputs": [],
   "source": [
    "# 567: Permutation in String On Leetcode\n",
    "class WindowCompare(object):\n",
    "    def compareWindow(self, s1, s2):\n",
    "        if len(s1)>len(s2):\n",
    "            return False\n",
    "        \n",
    "        s1dct = defaultdict(int)\n",
    "        s2dct = defaultdict(int)\n",
    "\n",
    "        for elem in s1:\n",
    "            s1dct[elem]+=1\n",
    "        for i in xrange(len(s1)):\n",
    "            s2dct[s2[i]]+=1\n",
    "\n",
    "        i = 0\n",
    "\n",
    "        for j in xrange(len(s1), len(s2)):\n",
    "            if s1dct == s2dct:\n",
    "                return True \n",
    "            s2dct[s2[j]]+=1\n",
    "            s2dct[s2[i]]-=1\n",
    "            if s2dct[s2[i]]<=0:\n",
    "                del s2dct[s2[i]]\n",
    "            i+=1\n",
    "\n",
    "        if s1dct == s2dct:\n",
    "            return True "
   ]
  },
  {
   "cell_type": "code",
   "execution_count": null,
   "metadata": {},
   "outputs": [],
   "source": []
  }
 ],
 "metadata": {
  "kernelspec": {
   "display_name": "Python 3",
   "language": "python",
   "name": "python3"
  },
  "language_info": {
   "codemirror_mode": {
    "name": "ipython",
    "version": 3
   },
   "file_extension": ".py",
   "mimetype": "text/x-python",
   "name": "python",
   "nbconvert_exporter": "python",
   "pygments_lexer": "ipython3",
   "version": "3.7.4"
  }
 },
 "nbformat": 4,
 "nbformat_minor": 2
}
