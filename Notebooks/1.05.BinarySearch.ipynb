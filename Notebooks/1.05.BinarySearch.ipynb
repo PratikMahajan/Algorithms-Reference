{
 "cells": [
  {
   "cell_type": "markdown",
   "metadata": {},
   "source": [
    "# Binary Search"
   ]
  },
  {
   "cell_type": "markdown",
   "metadata": {},
   "source": [
    "## Get a Separator in a rotated sorted Array\n",
    "**Modification of Binary search**"
   ]
  },
  {
   "cell_type": "code",
   "execution_count": 2,
   "metadata": {},
   "outputs": [
    {
     "name": "stdout",
     "output_type": "stream",
     "text": [
      "8\n"
     ]
    }
   ],
   "source": [
    "class SortedSeparator(object):\n",
    "    def getSeparator(self,nums):\n",
    "        lo=0\n",
    "        hi=int(len(nums)-1)\n",
    "        while lo<hi:\n",
    "            mid=int((lo+hi)/2)\n",
    "            if nums[mid]>nums[hi]:\n",
    "                lo=mid+1\n",
    "            else:\n",
    "                hi=mid   \n",
    "        return lo\n",
    "print(SortedSeparator().getSeparator([7,8,9,10,12,23,45,67,1,3,4,5,6]))"
   ]
  },
  {
   "cell_type": "code",
   "execution_count": null,
   "metadata": {},
   "outputs": [],
   "source": []
  }
 ],
 "metadata": {
  "kernelspec": {
   "display_name": "Python 3",
   "language": "python",
   "name": "python3"
  },
  "language_info": {
   "codemirror_mode": {
    "name": "ipython",
    "version": 3
   },
   "file_extension": ".py",
   "mimetype": "text/x-python",
   "name": "python",
   "nbconvert_exporter": "python",
   "pygments_lexer": "ipython3",
   "version": "3.7.4"
  }
 },
 "nbformat": 4,
 "nbformat_minor": 2
}
