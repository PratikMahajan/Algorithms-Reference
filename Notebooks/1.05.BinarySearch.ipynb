{
 "cells": [
  {
   "cell_type": "markdown",
   "metadata": {},
   "source": [
    "# Binary Search"
   ]
  },
  {
   "cell_type": "markdown",
   "metadata": {},
   "source": [
    "## Classic Application of Binary Search\n",
    "\n",
    "Binary Search finds the position of a target value in a sorted array. The complexity for this algorithm is \n",
    "<pre>\n",
    "- Worst-case performance        O(log n)\n",
    "- Best-case performance         O(1)\n",
    "- Average performance           O(log n)\n",
    "- Worst-case space complexity   O(1)\n",
    "</pre>\n"
   ]
  },
  {
   "cell_type": "code",
   "execution_count": 1,
   "metadata": {},
   "outputs": [],
   "source": [
    "class BinarySearch(object):\n",
    "    def search(self, nums, target):\n",
    "        low = 0 \n",
    "        high = len(nums)-1\n",
    "        while low<=high:\n",
    "            mid = (low+high)//2\n",
    "            if nums[mid]==target:\n",
    "                return mid\n",
    "            if nums[mid]>target:\n",
    "                high=mid-1\n",
    "            else:\n",
    "                low=mid+1\n",
    "        \n",
    "        return -1"
   ]
  },
  {
   "cell_type": "code",
   "execution_count": 2,
   "metadata": {},
   "outputs": [
    {
     "name": "stdout",
     "output_type": "stream",
     "text": [
      "11\n"
     ]
    }
   ],
   "source": [
    "print(BinarySearch().search([-1,2,4,6,12,22,34,54,67,76,98,645,896,2342],645))"
   ]
  },
  {
   "cell_type": "code",
   "execution_count": 3,
   "metadata": {},
   "outputs": [
    {
     "name": "stdout",
     "output_type": "stream",
     "text": [
      "-1\n"
     ]
    }
   ],
   "source": [
    "print(BinarySearch().search([-1,2,4,6,12,22,34,54,67,76,98,645,896,2342],949))"
   ]
  },
  {
   "cell_type": "markdown",
   "metadata": {},
   "source": [
    "## Get a Separator in a rotated sorted Array\n",
    "**Modification of Binary search**"
   ]
  },
  {
   "cell_type": "code",
   "execution_count": 4,
   "metadata": {},
   "outputs": [
    {
     "name": "stdout",
     "output_type": "stream",
     "text": [
      "8\n"
     ]
    }
   ],
   "source": [
    "class SortedSeparator(object):\n",
    "    def getSeparator(self,nums):\n",
    "        lo=0\n",
    "        hi=int(len(nums)-1)\n",
    "        while lo<hi:\n",
    "            mid=int((lo+hi)/2)\n",
    "            if nums[mid]>nums[hi]:\n",
    "                lo=mid+1\n",
    "            else:\n",
    "                hi=mid   \n",
    "        return lo\n",
    "print(SortedSeparator().getSeparator([7,8,9,10,12,23,45,67,1,3,4,5,6]))"
   ]
  },
  {
   "cell_type": "code",
   "execution_count": null,
   "metadata": {},
   "outputs": [],
   "source": []
  }
 ],
 "metadata": {
  "kernelspec": {
   "display_name": "Python 2",
   "language": "python",
   "name": "python2"
  },
  "language_info": {
   "codemirror_mode": {
    "name": "ipython",
    "version": 2
   },
   "file_extension": ".py",
   "mimetype": "text/x-python",
   "name": "python",
   "nbconvert_exporter": "python",
   "pygments_lexer": "ipython2",
   "version": "2.7.18"
  }
 },
 "nbformat": 4,
 "nbformat_minor": 2
}
