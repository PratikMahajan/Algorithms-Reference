{
 "cells": [
  {
   "cell_type": "markdown",
   "metadata": {},
   "source": [
    "# Python Basics"
   ]
  },
  {
   "cell_type": "markdown",
   "metadata": {},
   "source": [
    "## Dictionaries"
   ]
  },
  {
   "cell_type": "markdown",
   "metadata": {},
   "source": [
    "### Sorting a Dictionary with Key or Value"
   ]
  },
  {
   "cell_type": "markdown",
   "metadata": {},
   "source": [
    "**Sort by Key**\n",
    "```python\n",
    "result = OrderedDict(sorted(unsorted.items(), key= lambda x:x[0]))\n",
    "```\n",
    "\n",
    "**Sort by Value**\n",
    "```python\n",
    "result = OrderedDict(sorted(unsorted.items(), key= lambda x:x[1]))\n",
    "```\n",
    "\n",
    "**Get items in Sorted Order**\n",
    "```python\n",
    "result = [unsorted[key] for key in sorted(unsorted.keys())]\n",
    "```"
   ]
  },
  {
   "cell_type": "markdown",
   "metadata": {},
   "source": [
    "### Ordered Dict"
   ]
  },
  {
   "cell_type": "markdown",
   "metadata": {},
   "source": [
    "```python\n",
    "import collections\n",
    "orderes_dict = collections.OrderedDict() \n",
    "```"
   ]
  },
  {
   "cell_type": "markdown",
   "metadata": {},
   "source": [
    "**Can also take existing dictionary (won't order the dictionary by itself)**"
   ]
  },
  {
   "cell_type": "markdown",
   "metadata": {},
   "source": [
    "### Default Dict"
   ]
  },
  {
   "cell_type": "markdown",
   "metadata": {},
   "source": [
    "```python \n",
    "import collections\n",
    "dictionary = collections.defaultdict(set) # Replace 'set' with any data structure of choice\n",
    "```"
   ]
  },
  {
   "cell_type": "markdown",
   "metadata": {},
   "source": [
    "Creates a dictionary with default value(data-type). eg. list, set, dict, etc <br/>\n",
    "It is accessed as a normal dictionary "
   ]
  },
  {
   "cell_type": "markdown",
   "metadata": {},
   "source": [
    "### Dictionary Operations "
   ]
  },
  {
   "cell_type": "markdown",
   "metadata": {},
   "source": [
    "**Delete a key in dictionary**\n",
    "\n",
    "```python\n",
    "del d[key]  # d is the name of dictionary\n",
    "```"
   ]
  },
  {
   "cell_type": "markdown",
   "metadata": {},
   "source": [
    "## Heaps"
   ]
  },
  {
   "cell_type": "markdown",
   "metadata": {},
   "source": [
    "Inbuilt heap data structure is a `min-heap` i.e. it returns smallest item of the list"
   ]
  },
  {
   "cell_type": "markdown",
   "metadata": {},
   "source": [
    "**Import the built-in heap using**\n",
    "```python\n",
    "import heapq\n",
    "```\n",
    "**Create a heap from list**\n",
    "```python\n",
    "heapq.heapify([])\n",
    "```\n",
    "**Insert an item into the heap**\n",
    "```python\n",
    "heapq.heappush([],item)\n",
    "```\n",
    "**Return the smallest item from the heap**\n",
    "```python\n",
    "heapq.heappop([])\n",
    "```\n",
    "**Insert an element into heap and return the smallest element**\n",
    "```python\n",
    "heapq.heappushpop([],item)\n",
    "```"
   ]
  },
  {
   "cell_type": "markdown",
   "metadata": {},
   "source": [
    "To convert the heap into `max-heap` (return the maximum element on `pop()`, just convert all the values into -ve while inserting"
   ]
  },
  {
   "cell_type": "markdown",
   "metadata": {},
   "source": [
    "## SET\n"
   ]
  },
  {
   "cell_type": "markdown",
   "metadata": {},
   "source": [
    "### Add\n",
    "`.add(x)`\n",
    "It adds the element to the set and returns 'None'.\n",
    "\n",
    "### Remove\n",
    "`.remove(x)`\n",
    "This operation removes element x from the set. \n",
    "If element  does not exist, it raises a `KeyError`.\n",
    "The `.remove(x)` operation returns 'None'.\n",
    "\n",
    "### Discard\n",
    "`.discard(x)`\n",
    "This operation also removes element x from the set. \n",
    "If element  does not exist, it **does not** raise a `KeyError`.\n",
    "The `.discard(x)` operation returns 'None'.\n",
    "\n",
    "### Pop\n",
    "`.pop()`\n",
    "This operation removes and return an arbitrary element from the set. \n",
    "If there are no elements to remove, it raises a `KeyError`.\n",
    "\n",
    "### Union\n",
    "`.union()`\n",
    "The .union() operator returns the union of a set and the set of elements in an iterable. \n",
    "Sometimes, the | operator is used in place of .union() operator, but it operates only on the set of elements in set.\n",
    "Set is immutable to the .union() operation (or | operation).\n",
    "Usage:\n",
    "```python3\n",
    "ans= s.union(y)\n",
    "# Returns a set which is union of 's' and 'y'\n",
    "```\n",
    "\n",
    "### Intersection \n",
    "`.intersection()`\n",
    "The .intersection() operator returns the intersection of a set and the set of elements in an iterable.\n",
    "Sometimes, the & operator is used in place of the .intersection() operator, but it only operates on the set of elements in set.\n",
    "The set is immutable to the .intersection() operation (or & operation).\n",
    "Usage:\n",
    "```python3\n",
    "ans= s.intersection(y)\n",
    "# Returns a set which is intersection of 's' and 'y'\n",
    "```\n",
    "\n",
    "\n",
    "### Difference\n",
    "`.difference()`\n",
    "The tool .difference() returns a set with all the elements from the set that are not in an iterable.\n",
    "Sometimes the - operator is used in place of the .difference() tool, but it only operates on the set of elements in set.\n",
    "Set is immutable to the .difference() operation (or the - operation).\n",
    "```python3\n",
    "ans= s.difference(y)\n",
    "# Returns a set which has all the elements of 's' which are not in 'y'\n",
    "```\n",
    "\n",
    "### Symmetric Difference\n",
    "`.symmetric_difference()`\n",
    "The .symmetric_difference() operator returns a set with all the elements that are in the set and the iterable but not both.\n",
    "Sometimes, a ^ operator is used in place of the .symmetric_difference() tool, but it only operates on the set of elements in set.\n",
    "The set is immutable to the .symmetric_difference() operation (or ^ operation).\n",
    "```python3\n",
    "ans= s.symmetric_difference(y)\n",
    "# Returns a set which has all the elements of 's' and 'y' without the common elements\n",
    "```\n",
    "\n",
    "### Mutations\n",
    "\n",
    "##### Update\n",
    "`.update()` or `|= ` \\\n",
    "Update the set by adding elements from an iterable/another set.\n",
    "\n",
    "##### intersection_update() \n",
    "`.intersection_update()` or `&=` \\\n",
    "Update the set by keeping only the elements found in it and an iterable/another set.\n",
    "\n",
    "##### difference_update()\n",
    "`.difference_update()` or `-=` \\\n",
    "Update the set by removing elements found in an iterable/another set.\n",
    "\n",
    "##### symmetric_difference_update()\n",
    "`.symmetric_difference_update()` or `^=` \\\n",
    "Update the set by only keeping the elements found in either set, but not in both."
   ]
  },
  {
   "cell_type": "markdown",
   "metadata": {},
   "source": [
    "## Regex"
   ]
  },
  {
   "cell_type": "markdown",
   "metadata": {},
   "source": [
    "**Import regex library using** \n",
    "```python\n",
    "import re\n",
    "```\n",
    "\n",
    "**Compile Regex**\n",
    "```python\n",
    "regex = re.compile('your_regex_here')\n",
    "```"
   ]
  },
  {
   "cell_type": "markdown",
   "metadata": {},
   "source": [
    "**Replace using Regex**\n",
    "```python\n",
    "import re \n",
    "regex = re.compile('your_regex_here')\n",
    "string = regex.sub(\"replace_with_this\", your_string)\n",
    "```"
   ]
  },
  {
   "cell_type": "markdown",
   "metadata": {},
   "source": [
    "## Manipulation In Python"
   ]
  },
  {
   "cell_type": "code",
   "execution_count": 1,
   "metadata": {},
   "outputs": [
    {
     "data": {
      "text/plain": [
       "0.5"
      ]
     },
     "execution_count": 1,
     "metadata": {},
     "output_type": "execute_result"
    }
   ],
   "source": [
    "(0+1)/2"
   ]
  },
  {
   "cell_type": "code",
   "execution_count": 2,
   "metadata": {},
   "outputs": [
    {
     "data": {
      "text/plain": [
       "0"
      ]
     },
     "execution_count": 2,
     "metadata": {},
     "output_type": "execute_result"
    }
   ],
   "source": [
    "(0+1)//2"
   ]
  }
 ],
 "metadata": {
  "kernelspec": {
   "display_name": "Python 3",
   "language": "python",
   "name": "python3"
  },
  "language_info": {
   "codemirror_mode": {
    "name": "ipython",
    "version": 3
   },
   "file_extension": ".py",
   "mimetype": "text/x-python",
   "name": "python",
   "nbconvert_exporter": "python",
   "pygments_lexer": "ipython3",
   "version": "3.7.4"
  }
 },
 "nbformat": 4,
 "nbformat_minor": 2
}
