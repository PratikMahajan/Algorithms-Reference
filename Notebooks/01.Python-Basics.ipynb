{
 "cells": [
  {
   "cell_type": "markdown",
   "metadata": {},
   "source": [
    "# Python Basics"
   ]
  },
  {
   "cell_type": "markdown",
   "metadata": {},
   "source": [
    "## Dictionaries"
   ]
  },
  {
   "cell_type": "markdown",
   "metadata": {},
   "source": [
    "### Sorting a Dictionary with Key or Value"
   ]
  },
  {
   "cell_type": "markdown",
   "metadata": {},
   "source": [
    "**Sort by Key**\n",
    "```python\n",
    "result = OrderedDict(sorted(unsorted.items(), key= lambda x:x[0]))\n",
    "```\n",
    "\n",
    "**Sort by Value**\n",
    "```python\n",
    "result = OrderedDict(sorted(unsorted.items(), key= lambda x:x[1]))\n",
    "```\n",
    "\n",
    "**Get items in Sorted Order**\n",
    "```python\n",
    "result = [unsorted[key] for key in sorted(unsorted.keys())]\n",
    "```"
   ]
  },
  {
   "cell_type": "markdown",
   "metadata": {},
   "source": [
    "### Ordered Dict"
   ]
  },
  {
   "cell_type": "markdown",
   "metadata": {},
   "source": [
    "```python\n",
    "import collections\n",
    "orderes_dict = collections.OrderedDict() \n",
    "```"
   ]
  },
  {
   "cell_type": "markdown",
   "metadata": {},
   "source": [
    "**Can also take existing dictionary (won't order the dictionary by itself)**"
   ]
  },
  {
   "cell_type": "markdown",
   "metadata": {},
   "source": [
    "### Default Dict"
   ]
  },
  {
   "cell_type": "markdown",
   "metadata": {},
   "source": [
    "```python \n",
    "import collections\n",
    "dictionary = collections.defaultdict(set) # Replace 'set' with any data structure of choice\n",
    "```"
   ]
  },
  {
   "cell_type": "markdown",
   "metadata": {},
   "source": [
    "Creates a dictionary with default value(data-type). eg. list, set, dict, etc <br/>\n",
    "It is accessed as a normal dictionary "
   ]
  },
  {
   "cell_type": "markdown",
   "metadata": {},
   "source": [
    "### Dictionary Operations "
   ]
  },
  {
   "cell_type": "markdown",
   "metadata": {},
   "source": [
    "**Delete a key in dictionary**\n",
    "\n",
    "```python\n",
    "del d[key]  # d is the name of dictionary\n",
    "```"
   ]
  },
  {
   "cell_type": "markdown",
   "metadata": {},
   "source": [
    "## Heaps"
   ]
  },
  {
   "cell_type": "markdown",
   "metadata": {},
   "source": [
    "Inbuilt heap data structure is a `min-heap` i.e. it returns smallest item of the list"
   ]
  },
  {
   "cell_type": "markdown",
   "metadata": {},
   "source": [
    "**Import the built-in heap using**\n",
    "```python\n",
    "import heapq\n",
    "```\n",
    "**Create a heap from list**\n",
    "```python\n",
    "heapq.heapify([])\n",
    "```\n",
    "**Insert an item into the heap**\n",
    "```python\n",
    "heapq.heappush([],item)\n",
    "```\n",
    "**Return the smallest item from the heap**\n",
    "```python\n",
    "heapq.heappop([])\n",
    "```\n",
    "**Insert an element into heap and return the smallest element**\n",
    "```python\n",
    "heapq.heappushpop([],item)\n",
    "```"
   ]
  },
  {
   "cell_type": "markdown",
   "metadata": {},
   "source": [
    "To convert the heap into `max-heap` (return the maximum element on `pop()`, just convert all the values into -ve while inserting"
   ]
  },
  {
   "cell_type": "markdown",
   "metadata": {},
   "source": [
    "## Regex"
   ]
  },
  {
   "cell_type": "markdown",
   "metadata": {},
   "source": [
    "**Import regex library using** \n",
    "```python\n",
    "import re\n",
    "```\n",
    "\n",
    "**Compile Regex**\n",
    "```python\n",
    "regex = re.compile('your_regex_here')\n",
    "```"
   ]
  },
  {
   "cell_type": "markdown",
   "metadata": {},
   "source": [
    "**Replace using Regex**\n",
    "```python\n",
    "import re \n",
    "regex = re.compile('your_regex_here')\n",
    "string = regex.sub(\"replace_with_this\", your_string)\n",
    "```"
   ]
  },
  {
   "cell_type": "markdown",
   "metadata": {},
   "source": [
    "## Manipulation In Python"
   ]
  },
  {
   "cell_type": "code",
   "execution_count": 1,
   "metadata": {},
   "outputs": [
    {
     "data": {
      "text/plain": [
       "0.5"
      ]
     },
     "execution_count": 1,
     "metadata": {},
     "output_type": "execute_result"
    }
   ],
   "source": [
    "(0+1)/2"
   ]
  },
  {
   "cell_type": "code",
   "execution_count": 2,
   "metadata": {},
   "outputs": [
    {
     "data": {
      "text/plain": [
       "0"
      ]
     },
     "execution_count": 2,
     "metadata": {},
     "output_type": "execute_result"
    }
   ],
   "source": [
    "(0+1)//2"
   ]
  }
 ],
 "metadata": {
  "kernelspec": {
   "display_name": "Python 3",
   "language": "python",
   "name": "python3"
  },
  "language_info": {
   "codemirror_mode": {
    "name": "ipython",
    "version": 3
   },
   "file_extension": ".py",
   "mimetype": "text/x-python",
   "name": "python",
   "nbconvert_exporter": "python",
   "pygments_lexer": "ipython3",
   "version": "3.7.2"
  }
 },
 "nbformat": 4,
 "nbformat_minor": 2
}
